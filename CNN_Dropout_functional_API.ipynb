{
  "nbformat": 4,
  "nbformat_minor": 0,
  "metadata": {
    "colab": {
      "provenance": []
    },
    "kernelspec": {
      "name": "python3",
      "display_name": "Python 3"
    },
    "language_info": {
      "name": "python"
    }
  },
  "cells": [
    {
      "cell_type": "code",
      "source": [],
      "metadata": {
        "id": "odPTMi-iPIm7"
      },
      "execution_count": null,
      "outputs": []
    },
    {
      "cell_type": "code",
      "source": [
        "import keras\n",
        "from keras import layers\n",
        "from keras.models import Sequential\n",
        "from keras.layers import Dense, Dropout, Activation, Flatten\n",
        "from keras.layers import Conv2D, MaxPooling2D\n",
        "from keras.utils import to_categorical\n",
        "import numpy as np\n",
        "import matplotlib.pyplot as plt"
      ],
      "metadata": {
        "id": "WgQlYM2kPWCV"
      },
      "execution_count": 1,
      "outputs": []
    },
    {
      "cell_type": "code",
      "source": [
        "from keras.datasets import mnist"
      ],
      "metadata": {
        "id": "mi4zQZLPPX4y"
      },
      "execution_count": 2,
      "outputs": []
    },
    {
      "cell_type": "code",
      "source": [
        "(x_train, y_train), (x_test, y_test) = mnist.load_data()"
      ],
      "metadata": {
        "colab": {
          "base_uri": "https://localhost:8080/"
        },
        "id": "7gsO8T6BPc3R",
        "outputId": "9e20cc9e-a2d3-47c1-9076-c9f5e9116fdc"
      },
      "execution_count": 3,
      "outputs": [
        {
          "output_type": "stream",
          "name": "stdout",
          "text": [
            "Downloading data from https://storage.googleapis.com/tensorflow/tf-keras-datasets/mnist.npz\n",
            "11490434/11490434 [==============================] - 0s 0us/step\n"
          ]
        }
      ]
    },
    {
      "cell_type": "code",
      "source": [
        "x_train.shape"
      ],
      "metadata": {
        "colab": {
          "base_uri": "https://localhost:8080/"
        },
        "id": "2k8nz1ZTPgQb",
        "outputId": "69c6770e-19ec-4b97-f230-be98b79318e7"
      },
      "execution_count": 4,
      "outputs": [
        {
          "output_type": "execute_result",
          "data": {
            "text/plain": [
              "(60000, 28, 28)"
            ]
          },
          "metadata": {},
          "execution_count": 4
        }
      ]
    },
    {
      "cell_type": "code",
      "source": [
        "plt.imshow(x_train[10])\n",
        "plt.show()"
      ],
      "metadata": {
        "colab": {
          "base_uri": "https://localhost:8080/",
          "height": 430
        },
        "id": "yCnz4l3LPmDi",
        "outputId": "fbe635b7-bcc7-47d1-aa84-6e4641bf50d9"
      },
      "execution_count": 5,
      "outputs": [
        {
          "output_type": "display_data",
          "data": {
            "text/plain": [
              "<Figure size 640x480 with 1 Axes>"
            ],
            "image/png": "[encoded data removed]"
          },
          "metadata": {}
        }
      ]
    },
    {
      "cell_type": "code",
      "source": [
        "y_train[10]"
      ],
      "metadata": {
        "colab": {
          "base_uri": "https://localhost:8080/"
        },
        "id": "uq6Tg1atPmGY",
        "outputId": "e5a12a01-1428-4dda-da69-61afdfbbf48c"
      },
      "execution_count": 6,
      "outputs": [
        {
          "output_type": "execute_result",
          "data": {
            "text/plain": [
              "3"
            ]
          },
          "metadata": {},
          "execution_count": 6
        }
      ]
    },
    {
      "cell_type": "code",
      "source": [
        "# Preprocess input data\n",
        "train_images = x_train.reshape((60000, 28, 28, 1))\n",
        "train_images = train_images.astype('float32') / 255\n",
        "\n",
        "test_images = x_test.reshape((10000, 28, 28, 1))\n",
        "test_images = test_images.astype('float32') / 255"
      ],
      "metadata": {
        "id": "eSol7_VnPmIq"
      },
      "execution_count": 7,
      "outputs": []
    },
    {
      "cell_type": "code",
      "source": [
        "#Preprocess class labels\n",
        "train_labels = keras.utils.to_categorical(y_train,10)\n",
        "test_labels = keras.utils.to_categorical(y_test, 10)"
      ],
      "metadata": {
        "id": "C-cC6AWxPrKj"
      },
      "execution_count": 8,
      "outputs": []
    },
    {
      "cell_type": "code",
      "source": [
        "#Define model architecture with Dropout(sequential model)\n",
        "model = Sequential()\n",
        "model.add(Conv2D(32, (3, 3), activation='relu', input_shape=(28, 28, 1)))\n",
        "model.add(MaxPooling2D((2, 2)))\n",
        "model.add(Conv2D(64, (3, 3), activation='relu'))\n",
        "model.add(MaxPooling2D((2, 2)))\n",
        "model.add(Conv2D(64, (3, 3), activation='relu'))\n",
        "model.add(Flatten())\n",
        "model.add(Dense(256, activation='relu'))\n",
        "model.add(Dropout(0.25))\n",
        "model.add(Dense(64, activation='relu'))\n",
        "model.add(Dropout(0.25))\n",
        "model.add(Dense(10, activation='softmax'))\n"
      ],
      "metadata": {
        "id": "AYskIHFnPrNU"
      },
      "execution_count": 10,
      "outputs": []
    },
    {
      "cell_type": "code",
      "source": [
        "#Define model architecture with Dropout(Functional API)\n",
        "inputs = keras.Input(shape=(28, 28,1))\n",
        "x=Conv2D(32, (3, 3), activation='relu')(inputs)\n",
        "x=MaxPooling2D((2, 2))(x)\n",
        "x=Conv2D(64, (3, 3), activation='relu')(x)\n",
        "x=MaxPooling2D((2, 2))(x)\n",
        "x=Conv2D(64, (3, 3), activation='relu')(x)\n",
        "x = Flatten()(x)\n",
        "x = Dense(256, activation=\"relu\")(x)\n",
        "x=Dropout(0.25)(x)\n",
        "x = Dense(64, activation=\"relu\")(x)\n",
        "x=Dropout(0.25)(x)\n",
        "outputs = Dense(10, activation=\"softmax\")(x)\n",
        "model1 = keras.Model(inputs, outputs)\n",
        "model1.summary()"
      ],
      "metadata": {
        "colab": {
          "base_uri": "https://localhost:8080/"
        },
        "id": "65ibZdDI2xAB",
        "outputId": "d3cc930a-f786-4580-f02b-dabeb7594278"
      },
      "execution_count": 15,
      "outputs": [
        {
          "output_type": "stream",
          "name": "stdout",
          "text": [
            "Model: \"model\"\n",
            "_________________________________________________________________\n",
            " Layer (type)                Output Shape              Param #   \n",
            "=================================================================\n",
            " input_1 (InputLayer)        [(None, 28, 28, 1)]       0         \n",
            "                                                                 \n",
            " conv2d_6 (Conv2D)           (None, 26, 26, 32)        320       \n",
            "                                                                 \n",
            " max_pooling2d_4 (MaxPooling  (None, 13, 13, 32)       0         \n",
            " 2D)                                                             \n",
            "                                                                 \n",
            " conv2d_7 (Conv2D)           (None, 11, 11, 64)        18496     \n",
            "                                                                 \n",
            " max_pooling2d_5 (MaxPooling  (None, 5, 5, 64)         0         \n",
            " 2D)                                                             \n",
            "                                                                 \n",
            " conv2d_8 (Conv2D)           (None, 3, 3, 64)          36928     \n",
            "                                                                 \n",
            " flatten_2 (Flatten)         (None, 576)               0         \n",
            "                                                                 \n",
            " dense_6 (Dense)             (None, 256)               147712    \n",
            "                                                                 \n",
            " dropout_4 (Dropout)         (None, 256)               0         \n",
            "                                                                 \n",
            " dense_7 (Dense)             (None, 64)                16448     \n",
            "                                                                 \n",
            " dropout_5 (Dropout)         (None, 64)                0         \n",
            "                                                                 \n",
            " dense_8 (Dense)             (None, 10)                650       \n",
            "                                                                 \n",
            "=================================================================\n",
            "Total params: 220,554\n",
            "Trainable params: 220,554\n",
            "Non-trainable params: 0\n",
            "_________________________________________________________________\n"
          ]
        }
      ]
    },
    {
      "cell_type": "code",
      "source": [
        "# Compile model\n",
        "model.compile(optimizer='rmsprop',\n",
        "                loss='categorical_crossentropy',\n",
        "                metrics=['accuracy'])"
      ],
      "metadata": {
        "id": "StgMoofMPrQJ"
      },
      "execution_count": 11,
      "outputs": []
    },
    {
      "cell_type": "code",
      "source": [
        "#Fit model on training data\n",
        "model_history=model.fit(train_images, train_labels,\n",
        "          batch_size=128,\n",
        "          epochs=10,validation_split=0.2)"
      ],
      "metadata": {
        "colab": {
          "base_uri": "https://localhost:8080/"
        },
        "id": "8-mlONknPmOR",
        "outputId": "12d6d1e8-79ac-4649-a506-aa247fd5d63c"
      },
      "execution_count": 12,
      "outputs": [
        {
          "output_type": "stream",
          "name": "stdout",
          "text": [
            "Epoch 1/10\n",
            "375/375 [==============================] - 64s 162ms/step - loss: 0.3373 - accuracy: 0.8937 - val_loss: 0.0876 - val_accuracy: 0.9737\n",
            "Epoch 2/10\n",
            "375/375 [==============================] - 54s 144ms/step - loss: 0.0806 - accuracy: 0.9763 - val_loss: 0.0506 - val_accuracy: 0.9852\n",
            "Epoch 3/10\n",
            "375/375 [==============================] - 53s 142ms/step - loss: 0.0539 - accuracy: 0.9848 - val_loss: 0.0465 - val_accuracy: 0.9868\n",
            "Epoch 4/10\n",
            "375/375 [==============================] - 54s 144ms/step - loss: 0.0396 - accuracy: 0.9883 - val_loss: 0.0461 - val_accuracy: 0.9879\n",
            "Epoch 5/10\n",
            "375/375 [==============================] - 54s 143ms/step - loss: 0.0338 - accuracy: 0.9903 - val_loss: 0.0469 - val_accuracy: 0.9872\n",
            "Epoch 6/10\n",
            "375/375 [==============================] - 54s 144ms/step - loss: 0.0259 - accuracy: 0.9927 - val_loss: 0.0385 - val_accuracy: 0.9899\n",
            "Epoch 7/10\n",
            "375/375 [==============================] - 54s 143ms/step - loss: 0.0223 - accuracy: 0.9938 - val_loss: 0.0420 - val_accuracy: 0.9901\n",
            "Epoch 8/10\n",
            "375/375 [==============================] - 54s 143ms/step - loss: 0.0196 - accuracy: 0.9943 - val_loss: 0.0401 - val_accuracy: 0.9899\n",
            "Epoch 9/10\n",
            "375/375 [==============================] - 54s 143ms/step - loss: 0.0150 - accuracy: 0.9956 - val_loss: 0.0463 - val_accuracy: 0.9898\n",
            "Epoch 10/10\n",
            "375/375 [==============================] - 53s 142ms/step - loss: 0.0134 - accuracy: 0.9957 - val_loss: 0.0479 - val_accuracy: 0.9908\n"
          ]
        }
      ]
    },
    {
      "cell_type": "code",
      "source": [
        "#Evaluate model on test data\n",
        "score = model.evaluate(test_images,test_labels)\n",
        "print('Test loss:', score[0])\n",
        "print('Test accuracy:', score[1])"
      ],
      "metadata": {
        "colab": {
          "base_uri": "https://localhost:8080/"
        },
        "id": "Rfge1mo7QhMg",
        "outputId": "bc2d6979-2f75-4433-cd1d-b3c7cb0b5fe5"
      },
      "execution_count": 13,
      "outputs": [
        {
          "output_type": "stream",
          "name": "stdout",
          "text": [
            "313/313 [==============================] - 3s 11ms/step - loss: 0.0322 - accuracy: 0.9930\n",
            "Test loss: 0.03216525539755821\n",
            "Test accuracy: 0.9929999709129333\n"
          ]
        }
      ]
    },
    {
      "cell_type": "code",
      "source": [
        "#comparing training and validation accuracy and loss\n",
        "acc = model_history.history['accuracy']\n",
        "val_acc = model_history.history['val_accuracy']\n",
        "loss = model_history.history['loss']\n",
        "val_loss = model_history.history['val_loss']\n",
        "\n",
        "epochs = range(len(acc))\n",
        "\n",
        "plt.plot(epochs, acc, 'bo', label='Training acc')\n",
        "plt.plot(epochs, val_acc, 'b', label='Validation acc')\n",
        "plt.title('Training and validation accuracy')\n",
        "plt.legend()\n",
        "\n",
        "plt.figure()\n",
        "\n",
        "plt.plot(epochs, loss, 'bo', label='Training loss')\n",
        "plt.plot(epochs, val_loss, 'b', label='Validation loss')\n",
        "plt.title('Training and validation loss')\n",
        "plt.legend()\n",
        "\n",
        "plt.show()"
      ],
      "metadata": {
        "colab": {
          "base_uri": "https://localhost:8080/",
          "height": 887
        },
        "id": "1dWNS-LAQhPO",
        "outputId": "2477a6fd-6196-4712-80dc-290f36ae03c1"
      },
      "execution_count": 14,
      "outputs": [
        {
          "output_type": "display_data",
          "data": {
            "text/plain": [
              "<Figure size 640x480 with 1 Axes>"
            ],
            "image/png": "[encoded data removed]"
          },
          "metadata": {}
        },
        {
          "output_type": "display_data",
          "data": {
            "text/plain": [
              "<Figure size 640x480 with 1 Axes>"
            ],
            "image/png": "[encoded data removed]"
          },
          "metadata": {}
        }
      ]
    },
    {
      "cell_type": "code",
      "source": [],
      "metadata": {
        "id": "jzs135TSQhR2"
      },
      "execution_count": null,
      "outputs": []
    },
    {
      "cell_type": "code",
      "source": [],
      "metadata": {
        "id": "ERMRRCs2QhUQ"
      },
      "execution_count": null,
      "outputs": []
    }
  ]
}