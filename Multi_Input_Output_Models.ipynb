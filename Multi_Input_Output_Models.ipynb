{
 "cells": [
  {
   "cell_type": "code",
   "execution_count": null,
   "id": "f0a0b646",
   "metadata": {},
   "outputs": [],
   "source": []
  },
  {
   "cell_type": "code",
   "execution_count": 1,
   "id": "b74c1426",
   "metadata": {},
   "outputs": [],
   "source": [
    "import tensorflow as tf\n",
    "from tensorflow import keras\n",
    "from keras.layers import Conv2D, MaxPooling2D, Dense"
   ]
  },
  {
   "cell_type": "code",
   "execution_count": 2,
   "id": "d10faf68",
   "metadata": {},
   "outputs": [],
   "source": [
    "model=keras.Sequential()\n",
    "model.add(Dense(64, activation=\"relu\", input_shape=(784,)))\n",
    "model.add(Dense(64, activation=\"relu\"))\n",
    "model.add(Dense(10))"
   ]
  },
  {
   "cell_type": "code",
   "execution_count": 3,
   "id": "302bc035",
   "metadata": {},
   "outputs": [
    {
     "name": "stdout",
     "output_type": "stream",
     "text": [
      "Model: \"sequential\"\n",
      "_________________________________________________________________\n",
      " Layer (type)                Output Shape              Param #   \n",
      "=================================================================\n",
      " dense (Dense)               (None, 64)                50240     \n",
      "                                                                 \n",
      " dense_1 (Dense)             (None, 64)                4160      \n",
      "                                                                 \n",
      " dense_2 (Dense)             (None, 10)                650       \n",
      "                                                                 \n",
      "=================================================================\n",
      "Total params: 55,050\n",
      "Trainable params: 55,050\n",
      "Non-trainable params: 0\n",
      "_________________________________________________________________\n"
     ]
    }
   ],
   "source": [
    "model.summary()"
   ]
  },
  {
   "cell_type": "markdown",
   "id": "c4344897",
   "metadata": {},
   "source": [
    "به روش زیر نیز میتوان مدل را به صورت sequential تعریف کرد"
   ]
  },
  {
   "cell_type": "code",
   "execution_count": 4,
   "id": "11916cc5",
   "metadata": {},
   "outputs": [],
   "source": [
    "model=keras.Sequential([(Dense(64, activation=\"relu\", input_shape=(784,))),\n",
    "(Dense(64, activation=\"relu\")),\n",
    "(Dense(10))])"
   ]
  },
  {
   "cell_type": "markdown",
   "id": "94c434e6",
   "metadata": {},
   "source": [
    "definition of model functional API"
   ]
  },
  {
   "cell_type": "code",
   "execution_count": 2,
   "id": "7b2f6ec1",
   "metadata": {},
   "outputs": [],
   "source": [
    "from keras.layers import Input"
   ]
  },
  {
   "cell_type": "code",
   "execution_count": 8,
   "id": "58ed3b66",
   "metadata": {},
   "outputs": [],
   "source": [
    "i=Input(shape=(784,))\n",
    "x1=Dense(64, activation=\"relu\")(i)\n",
    "x2=Dense(64, activation=\"relu\")(x1)\n",
    "o=Dense(10)(x2)\n",
    "model=keras.Model(i,o)"
   ]
  },
  {
   "cell_type": "code",
   "execution_count": 9,
   "id": "01c3521d",
   "metadata": {},
   "outputs": [
    {
     "name": "stdout",
     "output_type": "stream",
     "text": [
      "Model: \"model_1\"\n",
      "_________________________________________________________________\n",
      " Layer (type)                Output Shape              Param #   \n",
      "=================================================================\n",
      " input_2 (InputLayer)        [(None, 784)]             0         \n",
      "                                                                 \n",
      " dense_9 (Dense)             (None, 64)                50240     \n",
      "                                                                 \n",
      " dense_10 (Dense)            (None, 64)                4160      \n",
      "                                                                 \n",
      " dense_11 (Dense)            (None, 10)                650       \n",
      "                                                                 \n",
      "=================================================================\n",
      "Total params: 55,050\n",
      "Trainable params: 55,050\n",
      "Non-trainable params: 0\n",
      "_________________________________________________________________\n"
     ]
    }
   ],
   "source": [
    "model.summary()"
   ]
  },
  {
   "cell_type": "code",
   "execution_count": null,
   "id": "fb0634ed",
   "metadata": {},
   "outputs": [],
   "source": [
    "تعریف مدل با دو خروجی"
   ]
  },
  {
   "cell_type": "code",
   "execution_count": 10,
   "id": "9372788b",
   "metadata": {},
   "outputs": [],
   "source": [
    "i=Input(shape=(784,))\n",
    "x1=Dense(64, activation=\"relu\")(i)\n",
    "x2=Dense(64, activation=\"relu\")(x1)\n",
    "o1=Dense(10)(x2)\n",
    "o2=Dense(10)(x2)\n",
    "\n",
    "model=keras.Model(i,[o1,o2])\n",
    "\n"
   ]
  },
  {
   "cell_type": "code",
   "execution_count": 11,
   "id": "75ad6e12",
   "metadata": {},
   "outputs": [
    {
     "name": "stdout",
     "output_type": "stream",
     "text": [
      "You must install pydot (`pip install pydot`) and install graphviz (see instructions at https://graphviz.gitlab.io/download/) for plot_model/model_to_dot to work.\n"
     ]
    }
   ],
   "source": [
    "keras.utils.plot_model(model)"
   ]
  },
  {
   "cell_type": "markdown",
   "id": "df36f1e7",
   "metadata": {},
   "source": [
    "تعریف مدل با دو ورودی"
   ]
  },
  {
   "cell_type": "code",
   "execution_count": 3,
   "id": "6b0df256",
   "metadata": {},
   "outputs": [],
   "source": [
    "i1=Input(shape=(784,))\n",
    "i2=Input(shape=(100,))\n",
    "i=keras.layers.concatenate([i1,i2])\n",
    "x1=Dense(64, activation=\"relu\")(i)\n",
    "x2=Dense(64, activation=\"relu\")(x1)\n",
    "o=Dense(10)(x2)\n",
    "model=keras.Model([i1,i2],o)"
   ]
  },
  {
   "cell_type": "code",
   "execution_count": null,
   "id": "98379935",
   "metadata": {},
   "outputs": [],
   "source": []
  },
  {
   "cell_type": "code",
   "execution_count": null,
   "id": "fa42568b",
   "metadata": {},
   "outputs": [],
   "source": []
  }
 ],
 "metadata": {
  "kernelspec": {
   "display_name": "Python 3 (ipykernel)",
   "language": "python",
   "name": "python3"
  },
  "language_info": {
   "codemirror_mode": {
    "name": "ipython",
    "version": 3
   },
   "file_extension": ".py",
   "mimetype": "text/x-python",
   "name": "python",
   "nbconvert_exporter": "python",
   "pygments_lexer": "ipython3",
   "version": "3.7.8"
  }
 },
 "nbformat": 4,
 "nbformat_minor": 5
}
